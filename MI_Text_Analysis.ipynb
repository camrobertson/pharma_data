{
  "nbformat": 4,
  "nbformat_minor": 0,
  "metadata": {
    "colab": {
      "name": "MI_Text_Analysis.ipynb",
      "version": "0.3.2",
      "provenance": [],
      "include_colab_link": true
    },
    "kernelspec": {
      "name": "python3",
      "display_name": "Python 3"
    }
  },
  "cells": [
    {
      "cell_type": "markdown",
      "metadata": {
        "id": "view-in-github",
        "colab_type": "text"
      },
      "source": [
        "<a href=\"https://colab.research.google.com/github/camrobertson/pharma_data/blob/master/MI_Text_Analysis.ipynb\" target=\"_parent\"><img src=\"https://colab.research.google.com/assets/colab-badge.svg\" alt=\"Open In Colab\"/></a>"
      ]
    },
    {
      "cell_type": "code",
      "metadata": {
        "id": "YemWRoXurSLL",
        "colab_type": "code",
        "colab": {}
      },
      "source": [
        "from nltk.corpus.reader.api import CorpusReader\n",
        "from nltk.corpus.reader.api import CategorizedCorpusReader"
      ],
      "execution_count": 0,
      "outputs": []
    },
    {
      "cell_type": "code",
      "metadata": {
        "id": "kM5aYjhQrfyA",
        "colab_type": "code",
        "colab": {}
      },
      "source": [
        "CAT_PATTERN = r'([a-z_\\s]+)/.*'\n",
        "DOC_PATTERN = r'(?!\\.)[a-z_\\s]+/[a-f0-9]+\\.json'\n",
        "TAGS = ['h1', 'h2', 'h3', 'h4', 'h5', 'h6', 'h7', 'p', 'li']\n",
        "\n",
        "class HTMLCorpusReader(CategorizedCorpusReader, CorpusReader):\n",
        "    \"\"\"\n",
        "    A corpus reader for raw HTML documents to enable preprocessing.\n",
        "    \"\"\"\n",
        "\n",
        "    def __init__(self, root, fileids=DOC_PATTERN, encoding='utf8',\n",
        "                 tags=TAGS, **kwargs):\n",
        "        \"\"\"\n",
        "        Initialize the corpus reader.  Categorization arguments\n",
        "        (``cat_pattern``, ``cat_map``, and ``cat_file``) are passed to\n",
        "        the ``CategorizedCorpusReader`` constructor.  The remaining\n",
        "        arguments are passed to the ``CorpusReader`` constructor.\n",
        "        \"\"\"\n",
        "        # Add the default category pattern if not passed into the class.\n",
        "        if not any(key.startswith('cat_') for key in kwargs.keys()):\n",
        "            kwargs['cat_pattern'] = CAT_PATTERN\n",
        "\n",
        "        # Initialize the NLTK corpus reader objects\n",
        "        CategorizedCorpusReader.__init__(self, kwargs)\n",
        "        CorpusReader.__init__(self, root, fileids, encoding)\n",
        "\n",
        "        # Save the tags that we specifically want to extract.\n",
        "        self.tags = tags"
      ],
      "execution_count": 0,
      "outputs": []
    }
  ]
}